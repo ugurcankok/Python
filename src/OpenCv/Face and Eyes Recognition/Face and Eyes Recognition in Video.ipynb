{
 "cells": [
  {
   "cell_type": "code",
   "execution_count": 1,
   "metadata": {},
   "outputs": [],
   "source": [
    "import cv2\n",
    "import numpy as np"
   ]
  },
  {
   "cell_type": "code",
   "execution_count": null,
   "metadata": {},
   "outputs": [],
   "source": [
    "camera=cv2.VideoCapture(0)\n",
    "while True:\n",
    "    ret,kare=camera.read()\n",
    "    face=cv2.CascadeClassifier(\"haarcascade_frontalface_default.xml\")\n",
    "    eye=cv2.CascadeClassifier(\"haarcascade_eye.xml\")\n",
    "    \n",
    "    gray_img=cv2.cvtColor(kare,cv2.COLOR_BGR2GRAY)\n",
    "    faces=face.detectMultiScale(gray_img,1.1,8)\n",
    "\n",
    "    for (x,y,w,h) in faces: \n",
    "        cv2.rectangle(kare,(x,y),(x+w,y+h),(255,0,0),2)\n",
    "        face_area=kare[y:y+h,x:x+w]\n",
    "        gray_face=cv2.cvtColor(face_area,cv2.COLOR_BGR2GRAY)\n",
    "        eyes=eye.detectMultiScale(gray_face,1.1,8)\n",
    "        for (a,b,c,d) in eyes:\n",
    "             cv2.rectangle(face_area,(a,b),(a+c,b+d),(0,255,0),1)\n",
    "    cv2.imshow(\"image\",kare)\n",
    "    \n",
    "    if cv2.waitKey(25) & 0xFF == ord(\"q\"):\n",
    "        break\n",
    "\n",
    "camera.release()\n",
    "cv2.destroyAllWindows()"
   ]
  },
  {
   "cell_type": "code",
   "execution_count": null,
   "metadata": {},
   "outputs": [],
   "source": []
  }
 ],
 "metadata": {
  "kernelspec": {
   "display_name": "Python 3",
   "language": "python",
   "name": "python3"
  },
  "language_info": {
   "codemirror_mode": {
    "name": "ipython",
    "version": 3
   },
   "file_extension": ".py",
   "mimetype": "text/x-python",
   "name": "python",
   "nbconvert_exporter": "python",
   "pygments_lexer": "ipython3",
   "version": "3.7.1"
  }
 },
 "nbformat": 4,
 "nbformat_minor": 2
}
