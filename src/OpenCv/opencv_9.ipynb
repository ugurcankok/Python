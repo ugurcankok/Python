{
 "cells": [
  {
   "cell_type": "code",
   "execution_count": 1,
   "metadata": {},
   "outputs": [],
   "source": [
    "import cv2\n",
    "import numpy as np"
   ]
  },
  {
   "cell_type": "code",
   "execution_count": null,
   "metadata": {},
   "outputs": [],
   "source": [
    "kamera=cv2.VideoCapture(0)\n",
    "\n",
    "while True:\n",
    "    ret,kare=kamera.read()\n",
    "    gri_kare=cv2.cvtColor(kare,cv2.COLOR_BGR2GRAY)\n",
    "    nesne=cv2.imread(\"pen.png\",0)\n",
    "    w,h=nesne.shape\n",
    "    res=cv2.matchTemplate(gri_kare,nesne,cv2.TM_CCOEFF_NORMED)\n",
    "    esik_degeri=0.8\n",
    "    loc=np.where(res>esik_degeri)\n",
    "    for n in zip(*loc[::-1]):\n",
    "        cv2.rectangle(kare,n,(n[0]+h,n[1]+w),(0,255,0),1)\n",
    "        cv2.putText(kare,\"pen\",(n[0]+20,n[1]+20),cv2.FONT_HERSHEY_COMPLEX,2,(0,0,255),2)\n",
    "    \n",
    "    cv2.imshow(\"ekran\",kare)\n",
    "    \n",
    "    if cv2.waitKey(25) & 0xFF == ord(\"q\"):\n",
    "        break\n",
    "        \n",
    "kamera.relase()\n",
    "cv2.destroyAllWindows()\n",
    "    "
   ]
  },
  {
   "cell_type": "code",
   "execution_count": null,
   "metadata": {},
   "outputs": [],
   "source": []
  }
 ],
 "metadata": {
  "kernelspec": {
   "display_name": "Python 3",
   "language": "python",
   "name": "python3"
  },
  "language_info": {
   "codemirror_mode": {
    "name": "ipython",
    "version": 3
   },
   "file_extension": ".py",
   "mimetype": "text/x-python",
   "name": "python",
   "nbconvert_exporter": "python",
   "pygments_lexer": "ipython3",
   "version": "3.7.1"
  }
 },
 "nbformat": 4,
 "nbformat_minor": 2
}
