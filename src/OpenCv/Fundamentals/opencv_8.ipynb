{
 "cells": [
  {
   "cell_type": "code",
   "execution_count": 1,
   "metadata": {},
   "outputs": [],
   "source": [
    "import cv2\n",
    "import numpy as np"
   ]
  },
  {
   "cell_type": "code",
   "execution_count": null,
   "metadata": {},
   "outputs": [],
   "source": [
    "kamera=cv2.VideoCapture(0)\n",
    "dusuk=np.array([90,50,50])\n",
    "yuksek=np.array([130,255,255])\n",
    "\n",
    "while True:\n",
    "    ret,goruntu=kamera.read()\n",
    "    hsv=cv2.cvtColor(goruntu,cv2.COLOR_BGR2HSV)\n",
    "    mask=cv2.inRange(hsv,dusuk,yuksek)\n",
    "    son_resim=cv2.bitwise_and(goruntu,goruntu,mask=mask)\n",
    "    \n",
    "    kernel=np.ones((5,5))\n",
    "    erosion=cv2.erode(mask,kernel,iterations=1)\n",
    "    diolation=cv2.dilate(mask,kernel,iterations=1)\n",
    "    \n",
    "    opening=cv2.morphologyEx(mask,cv2.MORPH_OPEN,kernel)\n",
    "    closing=cv2.morphologyEx(mask,cv2.MORPH_CLOSE,kernel)\n",
    "    \n",
    "    cv2.imshow(\"erosion\",erosion)\n",
    "    cv2.imshow(\"dilation\",diolation)\n",
    "    cv2.imshow(\"opening\",opening)\n",
    "    cv2.imshow(\"closing\",closing)\n",
    "    cv2.imshow(\"mask\",mask)\n",
    "    cv2.imshow(\"son\",son_resim)\n",
    "    \n",
    "    if cv2.waitKey(25) & 0xFF==ord(\"q\"):\n",
    "        break\n",
    "        \n",
    "kamera.release()\n",
    "cv2.destroyAllWindows()"
   ]
  },
  {
   "cell_type": "code",
   "execution_count": null,
   "metadata": {},
   "outputs": [],
   "source": []
  }
 ],
 "metadata": {
  "kernelspec": {
   "display_name": "Python 3",
   "language": "python",
   "name": "python3"
  },
  "language_info": {
   "codemirror_mode": {
    "name": "ipython",
    "version": 3
   },
   "file_extension": ".py",
   "mimetype": "text/x-python",
   "name": "python",
   "nbconvert_exporter": "python",
   "pygments_lexer": "ipython3",
   "version": "3.7.1"
  }
 },
 "nbformat": 4,
 "nbformat_minor": 2
}
