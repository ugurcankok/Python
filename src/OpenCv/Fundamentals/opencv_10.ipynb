{
 "cells": [
  {
   "cell_type": "code",
   "execution_count": 1,
   "metadata": {},
   "outputs": [],
   "source": [
    "import cv2\n",
    "import numpy as np"
   ]
  },
  {
   "cell_type": "code",
   "execution_count": null,
   "metadata": {},
   "outputs": [],
   "source": [
    "resim=cv2.imread(\"pen.png\")\n",
    "\n",
    "#laplacian filter\n",
    "lap=cv2.Laplacian(resim,cv2.CV_64F)\n",
    "#sobel filter\n",
    "sobel_dikey=cv2.Sobel(resim,cv2.CV_64F,1,0,ksize=5)\n",
    "sobel_yatay=cv2.Sobel(resim,cv2.CV_64F,0,1,ksize=5)\n",
    "#canny filter\n",
    "canny=cv2.Canny(resim,100,200)\n",
    "kamera=cv2.VideoCapture(0)\n",
    "\n",
    "while True:\n",
    "    ret,kare=kamera.read()\n",
    "    canny=cv2.Canny(kare,100,200)\n",
    "    cv2.imshow(\"canny\", canny)\n",
    "    if cv2.waitKey(25) & 0xFF == ord(\"q\"):\n",
    "        break\n",
    "    \n",
    "    \n",
    "kamera.release()\n",
    "cv2.destroyAllWindows()"
   ]
  },
  {
   "cell_type": "code",
   "execution_count": null,
   "metadata": {},
   "outputs": [],
   "source": []
  }
 ],
 "metadata": {
  "kernelspec": {
   "display_name": "Python 3",
   "language": "python",
   "name": "python3"
  },
  "language_info": {
   "codemirror_mode": {
    "name": "ipython",
    "version": 3
   },
   "file_extension": ".py",
   "mimetype": "text/x-python",
   "name": "python",
   "nbconvert_exporter": "python",
   "pygments_lexer": "ipython3",
   "version": "3.7.1"
  }
 },
 "nbformat": 4,
 "nbformat_minor": 2
}
