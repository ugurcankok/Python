{
 "cells": [
  {
   "cell_type": "code",
   "execution_count": 1,
   "metadata": {},
   "outputs": [],
   "source": [
    "import cv2\n",
    "import numpy as np"
   ]
  },
  {
   "cell_type": "code",
   "execution_count": 2,
   "metadata": {},
   "outputs": [],
   "source": [
    "#0-> bilgisayardaki video\n",
    "#1-> usb\n",
    "#2-> video adresi - video (\"video.mp4\")\n",
    "kamera=cv2.VideoCapture(0)"
   ]
  },
  {
   "cell_type": "code",
   "execution_count": 3,
   "metadata": {},
   "outputs": [],
   "source": [
    "#boyutlandırma\n",
    "#kamera.set(3,300)\n",
    "#kamera.set(4,300)"
   ]
  },
  {
   "cell_type": "code",
   "execution_count": 4,
   "metadata": {},
   "outputs": [],
   "source": [
    "def ayarlama(kare,yuzde=75):\n",
    "    genislik=int(kare.shape[1]* yuzde / 100)\n",
    "    yükseklik=int(kare.shape[0] * yuzde / 100)\n",
    "    boyut=(genislik,yükseklik)\n",
    "    return cv2.resize(kare,boyut,interpolation=cv2.INTER_AREA)"
   ]
  },
  {
   "cell_type": "code",
   "execution_count": null,
   "metadata": {},
   "outputs": [],
   "source": [
    "def main():\n",
    "    while True:\n",
    "        ret,kare=kamera.read()\n",
    "        #cv2.rectangle(kare,(100,200),(200,300),(100,100,100),2)\n",
    "        #bolge=kare[0:200,0:200]\n",
    "        #cv2.imshow(\"Bolge\",bolge)\n",
    "        #kare2 =ayarlama(kare,20)\n",
    "        griTon=cv2.cvtColor(kare,cv2.COLOR_BGR2GRAY)\n",
    "        cv2.imshow(\"Video\",kare)\n",
    "        cv2.imshow(\"Kare2\",kare)\n",
    "        if cv2.waitKey(25) & 0xFF == ord('q'):\n",
    "            break\n",
    "\n",
    "    kamera.release()\n",
    "    cv2.destroyAllWindows()"
   ]
  },
  {
   "cell_type": "code",
   "execution_count": null,
   "metadata": {},
   "outputs": [],
   "source": [
    "if __name__ == \"__main__\":\n",
    "    main()"
   ]
  },
  {
   "cell_type": "code",
   "execution_count": null,
   "metadata": {},
   "outputs": [],
   "source": []
  }
 ],
 "metadata": {
  "kernelspec": {
   "display_name": "Python 3",
   "language": "python",
   "name": "python3"
  },
  "language_info": {
   "codemirror_mode": {
    "name": "ipython",
    "version": 3
   },
   "file_extension": ".py",
   "mimetype": "text/x-python",
   "name": "python",
   "nbconvert_exporter": "python",
   "pygments_lexer": "ipython3",
   "version": "3.7.1"
  }
 },
 "nbformat": 4,
 "nbformat_minor": 2
}
