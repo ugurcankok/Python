{
 "cells": [
  {
   "cell_type": "code",
   "execution_count": null,
   "metadata": {},
   "outputs": [],
   "source": [
    "import cv2\n",
    "import numpy as np"
   ]
  },
  {
   "cell_type": "code",
   "execution_count": null,
   "metadata": {},
   "outputs": [],
   "source": [
    "def main():\n",
    "    resim=cv2.imread(\"dama.jpg\")\n",
    "    resim_gri=cv2.cvtColor(resim,cv2.COLOR_BGR2GRAY)\n",
    "    resim_gri=np.float32(resim_gri)\n",
    "    corner=cv2.goodFeaturesToTrack(resim_gri,50,0.01,10)\n",
    "    corner=np.int0(corner)\n",
    "    for cor in corner:\n",
    "        x,y=cor.ravel()\n",
    "        cv2.circle(resim,(x,y),3,(218,165,32),-1)\n",
    "    cv2.imshow(\"resim\",resim)\n",
    "    cv2.waitKey(0)\n",
    "    cv2.destroyAllWindows()"
   ]
  },
  {
   "cell_type": "code",
   "execution_count": null,
   "metadata": {},
   "outputs": [],
   "source": [
    "if __name__ == \"__main__\":\n",
    "    main()"
   ]
  },
  {
   "cell_type": "code",
   "execution_count": null,
   "metadata": {},
   "outputs": [],
   "source": []
  }
 ],
 "metadata": {
  "kernelspec": {
   "display_name": "Python 3",
   "language": "python",
   "name": "python3"
  },
  "language_info": {
   "codemirror_mode": {
    "name": "ipython",
    "version": 3
   },
   "file_extension": ".py",
   "mimetype": "text/x-python",
   "name": "python",
   "nbconvert_exporter": "python",
   "pygments_lexer": "ipython3",
   "version": "3.7.1"
  }
 },
 "nbformat": 4,
 "nbformat_minor": 2
}
