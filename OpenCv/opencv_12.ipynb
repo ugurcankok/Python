{
 "cells": [
  {
   "cell_type": "code",
   "execution_count": 1,
   "metadata": {},
   "outputs": [],
   "source": [
    "import cv2\n",
    "import numpy as np"
   ]
  },
  {
   "cell_type": "code",
   "execution_count": null,
   "metadata": {},
   "outputs": [],
   "source": [
    "video=cv2.VideoCapture(\"Adam.mp4\")\n",
    "body_casc=cv2.CascadeClassifier(\"haarcascade_fullbody.xml\")\n",
    "while True:\n",
    "    ret,kare=video.read()\n",
    "    gri_ton=cv2.cvtColor(kare,cv2.COLOR_BGR2GRAY)\n",
    "    body=body_casc.detectMultiScale(gri_ton,1.1,3)\n",
    "    for (x,y,w,h) in body:\n",
    "        cv2.rectangle(kare,(x,y),(x+w,y+h),(193,205,205),2)\n",
    "        \n",
    "    cv2.imshow(\"video\",kare)\n",
    "\n",
    "    if cv2.waitKey(25) & 0xFF==ord(\"q\"):\n",
    "        break\n",
    "\n",
    "video.release()\n",
    "cv2.destroyAllWindows()    "
   ]
  },
  {
   "cell_type": "code",
   "execution_count": null,
   "metadata": {},
   "outputs": [],
   "source": []
  }
 ],
 "metadata": {
  "kernelspec": {
   "display_name": "Python 3",
   "language": "python",
   "name": "python3"
  },
  "language_info": {
   "codemirror_mode": {
    "name": "ipython",
    "version": 3
   },
   "file_extension": ".py",
   "mimetype": "text/x-python",
   "name": "python",
   "nbconvert_exporter": "python",
   "pygments_lexer": "ipython3",
   "version": "3.7.1"
  }
 },
 "nbformat": 4,
 "nbformat_minor": 2
}
