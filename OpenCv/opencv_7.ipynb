{
 "cells": [
  {
   "cell_type": "code",
   "execution_count": 1,
   "metadata": {},
   "outputs": [],
   "source": [
    "import cv2\n",
    "import numpy as np"
   ]
  },
  {
   "cell_type": "code",
   "execution_count": null,
   "metadata": {},
   "outputs": [],
   "source": [
    "kamera=cv2.VideoCapture(0)\n",
    "\n",
    "dusuk=np.array([90,50,50])\n",
    "yuksek=np.array([130,255,255])\n",
    "\n",
    "while True:\n",
    "    ret,goruntu=kamera.read()\n",
    "    hsv=cv2.cvtColor(goruntu,cv2.COLOR_BGR2HSV)\n",
    "    mask=cv2.inRange(hsv,dusuk,yuksek)\n",
    "    son_resim = cv2.bitwise_and(goruntu,goruntu,mask=mask)\n",
    "        \n",
    "    #smooth\n",
    "    kernel= np.ones((15,15),dtype=np.float32)/255\n",
    "    smoothed=cv2.filter2D(son_resim,-1,kernel)\n",
    "    \n",
    "    #blur\n",
    "    blur=cv2.GaussianBlur(son_resim,(15,15),0)\n",
    "    \n",
    "    #median\n",
    "    median=cv2.medianBlur(son_resim,15)\n",
    "    \n",
    "    #bilateral\n",
    "    bilateral=cv2.bilateralFilter(son_resim,15,75,75)\n",
    "    \n",
    "    cv2.imshow(\"mask\",mask)\n",
    "    cv2.imshow(\"ana_goruntu\",goruntu)\n",
    "    cv2.imshow(\"hsv_goruntu\",hsv)\n",
    "    cv2.imshow(\"son\" ,son_resim)\n",
    "    cv2.imshow(\"smoothed\",smoothed)\n",
    "    cv2.imshow(\"blur\",blur)\n",
    "    cv2.imshow(\"median\",median)\n",
    "    cv2.imshow(\"bilateral\",bilateral)\n",
    "    \n",
    "    if cv2.waitKey(25) & 0xFF== ord(\"q\"):\n",
    "        break\n",
    "        \n",
    "kamera.release()\n",
    "cv2.destroyAllWindows()"
   ]
  },
  {
   "cell_type": "code",
   "execution_count": null,
   "metadata": {},
   "outputs": [],
   "source": []
  }
 ],
 "metadata": {
  "kernelspec": {
   "display_name": "Python 3",
   "language": "python",
   "name": "python3"
  },
  "language_info": {
   "codemirror_mode": {
    "name": "ipython",
    "version": 3
   },
   "file_extension": ".py",
   "mimetype": "text/x-python",
   "name": "python",
   "nbconvert_exporter": "python",
   "pygments_lexer": "ipython3",
   "version": "3.7.1"
  }
 },
 "nbformat": 4,
 "nbformat_minor": 2
}
