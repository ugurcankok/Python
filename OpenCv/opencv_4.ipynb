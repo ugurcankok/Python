{
 "cells": [
  {
   "cell_type": "code",
   "execution_count": 1,
   "metadata": {},
   "outputs": [],
   "source": [
    "import cv2\n",
    "import numpy as np"
   ]
  },
  {
   "cell_type": "code",
   "execution_count": null,
   "metadata": {},
   "outputs": [],
   "source": [
    "img=np.zeros((400,400,3),dtype=\"uint8\")\n",
    "cv2.rectangle(img,(100,300),(300,100),(100,45,55),2)\n",
    "#img.fill(255)\n",
    "cv2.line(img,(0,0),(200,200),(56,76,80),2)\n",
    "cv2.circle(img,(200,200),50,(0,255,0),3)\n",
    "cv2.putText(img,\"ugurcan\",(150,150),cv2.FONT_HERSHEY_COMPLEX,1,(0,0,255),2)\n",
    "cv2.imshow(\"Rectangle\",img)\n",
    "cv2.waitKey(0)\n",
    "cv2.destroyAllWindows()"
   ]
  },
  {
   "cell_type": "code",
   "execution_count": null,
   "metadata": {},
   "outputs": [],
   "source": []
  }
 ],
 "metadata": {
  "kernelspec": {
   "display_name": "Python 3",
   "language": "python",
   "name": "python3"
  },
  "language_info": {
   "codemirror_mode": {
    "name": "ipython",
    "version": 3
   },
   "file_extension": ".py",
   "mimetype": "text/x-python",
   "name": "python",
   "nbconvert_exporter": "python",
   "pygments_lexer": "ipython3",
   "version": "3.7.1"
  }
 },
 "nbformat": 4,
 "nbformat_minor": 2
}
