{
 "cells": [
  {
   "cell_type": "code",
   "execution_count": 1,
   "metadata": {},
   "outputs": [],
   "source": [
    "import cv2\n",
    "import numpy as np"
   ]
  },
  {
   "cell_type": "code",
   "execution_count": null,
   "metadata": {},
   "outputs": [],
   "source": [
    "def main():\n",
    "    img1=cv2.imread(\"android2.jpg\")\n",
    "    img2=cv2.imread(\"ugurcan.jpg\")\n",
    "    img1_gray=cv2.cvtColor(img1,cv2.COLOR_BGR2GRAY)\n",
    "    \n",
    "    yukseklik,genislik,kanal=img1.shape\n",
    "    ROI=img2[0:yukseklik,0:genislik]\n",
    "    \n",
    "    ret,mask=cv2.threshold(img1_gray,100,200,cv2.THRESH_BINARY)\n",
    "    mask_invert=cv2.bitwise_not(mask)\n",
    "    \n",
    "    arkaplan=cv2.bitwise_and(ROI,ROI,mask=mask_invert)\n",
    "    toplam=cv2.add(arkaplan,img1)\n",
    "   \n",
    "    img2[0:yukseklik,0:genislik]=toplam\n",
    "    cv2.imshow(\"result\",img2)\n",
    "    cv2.waitKey(0)\n",
    "    cv2.destroyAllWindows()"
   ]
  },
  {
   "cell_type": "code",
   "execution_count": null,
   "metadata": {},
   "outputs": [],
   "source": [
    "if __name__ == \"__main__\":\n",
    "    main()"
   ]
  },
  {
   "cell_type": "code",
   "execution_count": null,
   "metadata": {},
   "outputs": [],
   "source": []
  }
 ],
 "metadata": {
  "kernelspec": {
   "display_name": "Python 3",
   "language": "python",
   "name": "python3"
  },
  "language_info": {
   "codemirror_mode": {
    "name": "ipython",
    "version": 3
   },
   "file_extension": ".py",
   "mimetype": "text/x-python",
   "name": "python",
   "nbconvert_exporter": "python",
   "pygments_lexer": "ipython3",
   "version": "3.7.1"
  }
 },
 "nbformat": 4,
 "nbformat_minor": 2
}
